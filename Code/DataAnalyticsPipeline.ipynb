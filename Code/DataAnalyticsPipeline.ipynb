{
 "cells": [
  {
   "cell_type": "markdown",
   "metadata": {},
   "source": [
    "## Part 2 : DATA ANALYTICS PIPELINE USING APACHE SPARK\n",
    "### 1. Tejas Dhrangadharia(tejassha)\n",
    "### 2. Karan Nisar(karankir)"
   ]
  },
  {
   "cell_type": "code",
   "execution_count": 1,
   "metadata": {},
   "outputs": [],
   "source": [
    "# Import packages\n",
    "import pyspark\n",
    "from pyspark.ml import Pipeline\n",
    "from pyspark.ml.classification import *\n",
    "from pyspark.ml.feature import *\n",
    "from pyspark.ml.evaluation import MulticlassClassificationEvaluator\n",
    "from pyspark.sql.functions import *\n",
    "from pyspark.sql.types import *\n",
    "\n",
    "sc=pyspark.SparkContext()\n",
    "spark=pyspark.SQLContext(sc)"
   ]
  },
  {
   "cell_type": "markdown",
   "metadata": {},
   "source": [
    "## 2. Data Cleaning"
   ]
  },
  {
   "cell_type": "code",
   "execution_count": 367,
   "metadata": {},
   "outputs": [],
   "source": [
    "Topics=[\"Business\",\"Movies\",\"Sports\",\"Politics\"]\n",
    "schema = StructType([StructField('Keywords', StringType(), False),StructField('category', StringType(), True)])\n",
    "df=spark.createDataFrame(sc.emptyRDD(), schema)\n",
    "\n",
    "for i in Topics:\n",
    "    data=sc.wholeTextFiles(i)\n",
    "    data=data.values()\n",
    "    data=data.flatMap(lambda x: x.split(\" \"))\n",
    "    data=spark.createDataFrame(data,StringType())\n",
    "    data=data.select(regexp_replace(col(\"value\"),\"[^aA-zZ]\",\" \")).withColumnRenamed(\"regexp_replace(value, [^aA-zZ],  )\",\"Keywords\")\n",
    "    data=data.filter(\"Keywords!=''\")\n",
    "    data=data.withColumn(\"category\",lit(i))\n",
    "    # dropping null values\n",
    "    data=data.dropna()\n",
    "    df=df.union(data)"
   ]
  },
  {
   "cell_type": "markdown",
   "metadata": {},
   "source": [
    "## 3. Feature Engineering"
   ]
  },
  {
   "cell_type": "code",
   "execution_count": 368,
   "metadata": {},
   "outputs": [],
   "source": [
    "# Tokenizing \n",
    "inx_regex=RegexTokenizer(inputCol=\"Keywords\",outputCol=\"words\")\n",
    "\n",
    "# Remove Stop words\n",
    "remover=StopWordsRemover(inputCol=\"words\",outputCol=\"cleanwords\")\n",
    "\n",
    "# TF-IDF \n",
    "h=HashingTF(inputCol=\"cleanwords\",outputCol=\"filtered\")\n",
    "i=IDF(inputCol=\"filtered\",outputCol=\"features\")\n",
    "\n",
    "string=StringIndexer(inputCol=\"category\",outputCol=\"label\")"
   ]
  },
  {
   "cell_type": "code",
   "execution_count": 369,
   "metadata": {},
   "outputs": [],
   "source": [
    "# Build a pipeline\n",
    "pipe=Pipeline(stages=[inx_regex,remover,h,i,string])"
   ]
  },
  {
   "cell_type": "code",
   "execution_count": 370,
   "metadata": {},
   "outputs": [],
   "source": [
    "inx=pipe.fit(df).transform(df)"
   ]
  },
  {
   "cell_type": "code",
   "execution_count": 371,
   "metadata": {},
   "outputs": [],
   "source": [
    "# Split data into train(70%) and test(30%)\n",
    "(train,test)=inx.randomSplit([0.7,0.3])"
   ]
  },
  {
   "cell_type": "markdown",
   "metadata": {},
   "source": [
    "## 4. Multi-class Classification"
   ]
  },
  {
   "cell_type": "markdown",
   "metadata": {},
   "source": [
    "## Logistic Regression"
   ]
  },
  {
   "cell_type": "code",
   "execution_count": 372,
   "metadata": {},
   "outputs": [],
   "source": [
    "# Fit logistic regression model\n",
    "lr=LogisticRegression(featuresCol=\"features\",labelCol=\"label\",maxIter=20)\n",
    "lx=lr.fit(train)"
   ]
  },
  {
   "cell_type": "code",
   "execution_count": 373,
   "metadata": {},
   "outputs": [],
   "source": [
    "# Test the model using test data\n",
    "ly=lx.transform(test)"
   ]
  },
  {
   "cell_type": "code",
   "execution_count": 374,
   "metadata": {},
   "outputs": [],
   "source": [
    "evaluator=MulticlassClassificationEvaluator()"
   ]
  },
  {
   "cell_type": "code",
   "execution_count": 375,
   "metadata": {},
   "outputs": [
    {
     "data": {
      "text/plain": [
       "0.7156237232501345"
      ]
     },
     "execution_count": 375,
     "metadata": {},
     "output_type": "execute_result"
    }
   ],
   "source": [
    "# Evaluate the model\n",
    "evaluator.evaluate(ly)"
   ]
  },
  {
   "cell_type": "markdown",
   "metadata": {},
   "source": [
    "### Accuracy: 71.56%"
   ]
  },
  {
   "cell_type": "markdown",
   "metadata": {},
   "source": [
    "## Naive Bayes"
   ]
  },
  {
   "cell_type": "code",
   "execution_count": 376,
   "metadata": {},
   "outputs": [],
   "source": [
    "# Tokenizing\n",
    "inx_regex=RegexTokenizer(inputCol=\"Keywords\",outputCol=\"words\")\n",
    "\n",
    "# Remove Stop words\n",
    "remover=StopWordsRemover(inputCol=\"words\",outputCol=\"cleanwords\")\n",
    "\n",
    "# TF-IDF \n",
    "h=HashingTF(inputCol=\"cleanwords\",outputCol=\"filtered\")\n",
    "i=IDF(inputCol=\"filtered\",outputCol=\"features\")\n",
    "string=StringIndexer(inputCol=\"category\",outputCol=\"label\")\n",
    "\n",
    "# Build a pipeline\n",
    "pipe=Pipeline(stages=[inx_regex,remover,h,i,string])\n",
    "inx=pipe.fit(df).transform(df)\n",
    "\n",
    "# Split data into train(70%) and test(30%)\n",
    "(train,test)=inx.randomSplit([0.7,0.3])"
   ]
  },
  {
   "cell_type": "code",
   "execution_count": 377,
   "metadata": {},
   "outputs": [],
   "source": [
    "# Fit logistic regression model\n",
    "nb=NaiveBayes(smoothing=1.0)\n",
    "mod=nb.fit(train)"
   ]
  },
  {
   "cell_type": "code",
   "execution_count": 379,
   "metadata": {},
   "outputs": [],
   "source": [
    "# Test the model using test data\n",
    "model = mod.transform(test)"
   ]
  },
  {
   "cell_type": "code",
   "execution_count": 380,
   "metadata": {},
   "outputs": [
    {
     "data": {
      "text/plain": [
       "0.7260387782876818"
      ]
     },
     "execution_count": 380,
     "metadata": {},
     "output_type": "execute_result"
    }
   ],
   "source": [
    "# Evaluate the model\n",
    "evaluator=MulticlassClassificationEvaluator()\n",
    "evaluator.evaluate(model)"
   ]
  },
  {
   "cell_type": "markdown",
   "metadata": {},
   "source": [
    "### Accuracy: 72.60%"
   ]
  },
  {
   "cell_type": "markdown",
   "metadata": {},
   "source": [
    "## 5. Testing"
   ]
  },
  {
   "cell_type": "code",
   "execution_count": 457,
   "metadata": {},
   "outputs": [],
   "source": [
    "schema = StructType([StructField('Keywords', StringType(), False),StructField('category', StringType(), True)])\n",
    "Directory=[\"Business\",\"Movies\",\"Politics\",\"Sports\"]\n",
    "df=spark.createDataFrame(sc.emptyRDD(), schema)\n",
    "\n",
    "for i in Directory:\n",
    "    data=sc.wholeTextFiles(i)\n",
    "    data=data.values()\n",
    "    data=data.flatMap(lambda x: x.split(\" \"))\n",
    "    data=spark.createDataFrame(data,StringType())\n",
    "    data=data.select(regexp_replace(col(\"value\"),\"[^aA-zZ]\",\" \")).withColumnRenamed(\"regexp_replace(value, [^aA-zZ],  )\",\"Keywords\")\n",
    "    data=data.filter(\"Keywords!=''\")\n",
    "    data=data.withColumn(\"category\",lit(i))\n",
    "    # dropping null values\n",
    "    data=data.dropna()\n",
    "    df=df.union(data)"
   ]
  },
  {
   "cell_type": "code",
   "execution_count": 458,
   "metadata": {},
   "outputs": [],
   "source": [
    "inx=pipe.fit(df).transform(df)"
   ]
  },
  {
   "cell_type": "markdown",
   "metadata": {},
   "source": [
    "### Logistic Regression"
   ]
  },
  {
   "cell_type": "code",
   "execution_count": 459,
   "metadata": {},
   "outputs": [
    {
     "data": {
      "text/plain": [
       "0.5500619233315466"
      ]
     },
     "execution_count": 459,
     "metadata": {},
     "output_type": "execute_result"
    }
   ],
   "source": [
    "ly=lx.transform(inx)\n",
    "evaluator=MulticlassClassificationEvaluator()\n",
    "evaluator.evaluate(ly)"
   ]
  },
  {
   "cell_type": "markdown",
   "metadata": {},
   "source": [
    "### Accuracy: 55.00%"
   ]
  },
  {
   "cell_type": "markdown",
   "metadata": {},
   "source": [
    "### Naive Bayes"
   ]
  },
  {
   "cell_type": "code",
   "execution_count": 460,
   "metadata": {},
   "outputs": [
    {
     "data": {
      "text/plain": [
       "0.5572045986833497"
      ]
     },
     "execution_count": 460,
     "metadata": {},
     "output_type": "execute_result"
    }
   ],
   "source": [
    "model = mod.transform(inx)\n",
    "evaluator=MulticlassClassificationEvaluator()\n",
    "evaluator.evaluate(model)"
   ]
  },
  {
   "cell_type": "markdown",
   "metadata": {},
   "source": [
    "### Accuracy: 55.72%"
   ]
  }
 ],
 "metadata": {
  "kernelspec": {
   "display_name": "Python 3",
   "language": "python",
   "name": "python3"
  },
  "language_info": {
   "codemirror_mode": {
    "name": "ipython",
    "version": 3
   },
   "file_extension": ".py",
   "mimetype": "text/x-python",
   "name": "python",
   "nbconvert_exporter": "python",
   "pygments_lexer": "ipython3",
   "version": "3.6.4"
  }
 },
 "nbformat": 4,
 "nbformat_minor": 2
}
