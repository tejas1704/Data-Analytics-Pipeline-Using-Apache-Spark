{
 "cells": [
  {
   "cell_type": "markdown",
   "metadata": {},
   "source": [
    "## Data Collect\n",
    "### 1. Tejas Dhrangadharia(tejassha)\n",
    "### 2. Karan Nisar(karankir)"
   ]
  },
  {
   "cell_type": "code",
   "execution_count": 1,
   "metadata": {},
   "outputs": [],
   "source": [
    "from nytimesarticle import articleAPI\n",
    "api = articleAPI('YourAPIKey')"
   ]
  },
  {
   "cell_type": "code",
   "execution_count": 2,
   "metadata": {},
   "outputs": [],
   "source": [
    "# Scraper function\n",
    "import urllib\n",
    "from bs4 import BeautifulSoup\n",
    "import requests\n",
    "\n",
    "def scraper(url):\n",
    "    r  = requests.get(url)\n",
    "\n",
    "    data = r.text\n",
    "    soup = BeautifulSoup(data)\n",
    "    output = \"\"\n",
    "    for link in soup.find_all('p', attrs={'class': 'css-1cy1v93 e2kc3sl0'}):  # extracting paragraphs with class css-1cy1v93 e2kc3sl0\n",
    "        output += (link.text)\n",
    "    return output"
   ]
  },
  {
   "cell_type": "code",
   "execution_count": 3,
   "metadata": {},
   "outputs": [],
   "source": [
    "j = 0\n",
    "articles = api.search( q = 'Business',begin_date = 20170601,page=0)  "
   ]
  },
  {
   "cell_type": "code",
   "execution_count": 5,
   "metadata": {},
   "outputs": [
    {
     "name": "stderr",
     "output_type": "stream",
     "text": [
      "C:\\ProgramData\\Anaconda3\\lib\\site-packages\\bs4\\__init__.py:181: UserWarning: No parser was explicitly specified, so I'm using the best available HTML parser for this system (\"lxml\"). This usually isn't a problem, but if you run this code on another system, or in a different virtual environment, it may use a different parser and behave differently.\n",
      "\n",
      "The code that caused this warning is on line 193 of the file C:\\ProgramData\\Anaconda3\\lib\\runpy.py. To get rid of this warning, change code that looks like this:\n",
      "\n",
      " BeautifulSoup(YOUR_MARKUP})\n",
      "\n",
      "to this:\n",
      "\n",
      " BeautifulSoup(YOUR_MARKUP, \"lxml\")\n",
      "\n",
      "  markup_type=markup_type))\n"
     ]
    }
   ],
   "source": [
    "for i in articles['response']['docs']:\n",
    "    if i['web_url'] != \"\":\n",
    "        filename = \"nytimes_business_\" + str(j) + \".txt\"  # this will save every article in different txt files\n",
    "        f = open(filename, 'a+')\n",
    "        text = scraper(i['web_url'])\n",
    "        f.write(text)\n",
    "        f.write('\\n')\n",
    "        f.close()\n",
    "    j = j +1"
   ]
  }
 ],
 "metadata": {
  "kernelspec": {
   "display_name": "Python 3",
   "language": "python",
   "name": "python3"
  },
  "language_info": {
   "codemirror_mode": {
    "name": "ipython",
    "version": 3
   },
   "file_extension": ".py",
   "mimetype": "text/x-python",
   "name": "python",
   "nbconvert_exporter": "python",
   "pygments_lexer": "ipython3",
   "version": "3.6.4"
  }
 },
 "nbformat": 4,
 "nbformat_minor": 2
}
